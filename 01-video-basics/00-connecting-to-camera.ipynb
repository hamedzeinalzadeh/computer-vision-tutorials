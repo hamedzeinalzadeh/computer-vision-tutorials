{
 "cells": [
  {
   "cell_type": "markdown",
   "id": "9a90472e-e292-41b7-9e89-a6433c229d9a",
   "metadata": {},
   "source": [
    "# Connecting to (USB) Camera\n",
    "\n",
    "- **Note:** If you use a notebook, you may **restart your kernel after closing the camera windows**."
   ]
  },
  {
   "cell_type": "code",
   "execution_count": null,
   "id": "22970878-031f-4e7d-acca-8f9c38165b24",
   "metadata": {},
   "outputs": [],
   "source": [
    "import cv2\n",
    "\n",
    "# Connects to your computer's default camera\n",
    "# cap = cv2.VideoCapture(0)\n",
    "\n",
    "# Capture the video from the specific camera connected to your system\n",
    "cap = cv2.VideoCapture()\n",
    "cap.open(\"/dev/v4l/by-id/usb-Sonix_Technology_Co.__Ltd._USB_2.0_Camera-video-index0\")\n",
    "\n",
    "\n",
    "# Automatically grab width and height from video feed\n",
    "# (returns float which we need to convert to integer for later on!)\n",
    "width = int(cap.get(cv2.CAP_PROP_FRAME_WIDTH))\n",
    "height = int(cap.get(cv2.CAP_PROP_FRAME_HEIGHT))\n",
    "\n",
    "ret, frame = cap.read()\n",
    "\n",
    "while True:\n",
    "    \n",
    "    # Capture frame-by-frame\n",
    "    ret, frame = cap.read()\n",
    "\n",
    "    # Operations on the frame come here\n",
    "    gray = cv2.cvtColor(frame, cv2.COLOR_BGR2GRAY)\n",
    "\n",
    "    # Display the resulting frame\n",
    "    cv2.imshow('frame',gray)\n",
    "    \n",
    "    if cv2.waitKey(1) & 0xFF == 27:\n",
    "        break\n",
    "\n",
    "# When everything done, release the capture and destroy the windows\n",
    "cap.release()\n",
    "cv2.destroyAllWindows()"
   ]
  },
  {
   "cell_type": "markdown",
   "id": "bbe9f112-30e5-4224-9680-9686a2cddd93",
   "metadata": {},
   "source": [
    "---"
   ]
  },
  {
   "cell_type": "markdown",
   "id": "2b560dfc-df1d-42cc-ba05-af65fb123ef5",
   "metadata": {},
   "source": [
    "## Writing a Video Stream to File\n",
    "Make sure to put the codes below in just one block.\n",
    "\n",
    "`FourCC` is a **4-byte** code used to specify the video codec and platform dependent.\n",
    "\n",
    "https://docs.opencv.org/3.0-beta/doc/py_tutorials/py_gui/py_video_display/py_video_display.html#saving-a-video"
   ]
  },
  {
   "cell_type": "code",
   "execution_count": null,
   "id": "6fcb024d-90de-404a-8312-a47da9858994",
   "metadata": {},
   "outputs": [],
   "source": [
    "import cv2\n",
    "\n",
    "# Connects to your computer's default camera\n",
    "# cap = cv2.VideoCapture(0)\n",
    "\n",
    "# Capture the video from the specific camera connected to your system\n",
    "cap = cv2.VideoCapture()\n",
    "cap.open(\"/dev/v4l/by-id/usb-Sonix_Technology_Co.__Ltd._USB_2.0_Camera-video-index0\")\n",
    "\n",
    "\n",
    "# Automatically grab width and height from video feed\n",
    "# (returns float, need to convert to integer for later on!)\n",
    "width = int(cap.get(cv2.CAP_PROP_FRAME_WIDTH))\n",
    "height = int(cap.get(cv2.CAP_PROP_FRAME_HEIGHT))\n",
    "\n",
    "\n",
    "# Mac and Linux: *'XVID' (MacOS users may want to try VIDX as well just in case)\n",
    "# Windows: *'VIDX'\n",
    "writer = cv2.VideoWriter('../DATA/student_capture.mp4', cv2.VideoWriter_fourcc(*'XVID'),25, (width, height))\n",
    "\n",
    "\n",
    "## This loop keeps recording until you hit Q or escape the window\n",
    "## Instead using some sort of timer, like from time import sleep and then just record for 10 seconds.\n",
    "\n",
    "while True:\n",
    "    # Capture frame-by-frame\n",
    "    ret, frame = cap.read()\n",
    "\n",
    "    \n",
    "    # Write the video\n",
    "    writer.write(frame)\n",
    "\n",
    "    # Display the resulting frame\n",
    "    cv2.imshow('frame',frame)\n",
    "    \n",
    "    # Quit with the \"Esc\" button \n",
    "    # Simply pressing X on the window won't work!\n",
    "    if cv2.waitKey(1) & 0xFF == 27:\n",
    "        break\n",
    "\n",
    "        \n",
    "cap.release()\n",
    "writer.release()\n",
    "cv2.destroyAllWindows()"
   ]
  }
 ],
 "metadata": {
  "kernelspec": {
   "display_name": "Python 3",
   "language": "python",
   "name": "python3"
  },
  "language_info": {
   "codemirror_mode": {
    "name": "ipython",
    "version": 3
   },
   "file_extension": ".py",
   "mimetype": "text/x-python",
   "name": "python",
   "nbconvert_exporter": "python",
   "pygments_lexer": "ipython3",
   "version": "3.9.17"
  }
 },
 "nbformat": 4,
 "nbformat_minor": 5
}
