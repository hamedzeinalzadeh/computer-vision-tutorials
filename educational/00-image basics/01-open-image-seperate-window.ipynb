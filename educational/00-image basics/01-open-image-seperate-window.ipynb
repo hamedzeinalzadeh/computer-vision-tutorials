{
 "cells": [
  {
   "cell_type": "markdown",
   "id": "0efe96a9-2633-4b72-9490-dc0a8c6025f2",
   "metadata": {},
   "source": [
    "# Opening Image Files with OpenCV\n",
    "\n",
    "\n",
    ">**Note:**\n",
    "> Running this cell will kill the kernel if you are directly using jupyter.\n",
    "\n"
   ]
  },
  {
   "cell_type": "code",
   "execution_count": null,
   "id": "9e16053a-fc9b-4a7d-a353-f3335dc0912b",
   "metadata": {},
   "outputs": [],
   "source": [
    "# MUST BE RUN AS .py SCRIPT IN ORDER TO WORK.\n",
    "\n",
    "import cv2\n",
    "\n",
    "img = cv2.imread('../DATA/sun_flowers.jpeg',cv2.IMREAD_GRAYSCALE)\n",
    "# Show the image with OpenCV\n",
    "cv2.imshow('window_name',img)\n",
    "# Wait for something on keyboard to be pressed to close window.\n",
    "cv2.waitKey()"
   ]
  }
 ],
 "metadata": {
  "kernelspec": {
   "display_name": "Python 3",
   "language": "python",
   "name": "python3"
  },
  "language_info": {
   "codemirror_mode": {
    "name": "ipython",
    "version": 3
   },
   "file_extension": ".py",
   "mimetype": "text/x-python",
   "name": "python",
   "nbconvert_exporter": "python",
   "pygments_lexer": "ipython3",
   "version": "3.9.17"
  }
 },
 "nbformat": 4,
 "nbformat_minor": 5
}
