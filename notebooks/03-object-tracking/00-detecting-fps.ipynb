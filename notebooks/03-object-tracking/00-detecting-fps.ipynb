{
 "cells": [
  {
   "cell_type": "markdown",
   "id": "3eacc746-be20-4edd-8f2c-25c60b2496ab",
   "metadata": {},
   "source": [
    "# Caclulate FPS"
   ]
  },
  {
   "cell_type": "code",
   "execution_count": 1,
   "id": "f234a2f1-be46-4ee9-8603-a8a0d60ea34c",
   "metadata": {},
   "outputs": [],
   "source": [
    "import cv2\n",
    "import time\n",
    "\n",
    "# Read video\n",
    "#cap = cv2.VideoCapture(0)\n",
    "cap = cv2.VideoCapture()\n",
    "cap.open(\"/dev/v4l/by-id/usb-Sonix_Technology_Co.__Ltd._USB_2.0_Camera-video-index0\")\n",
    "\n",
    "# Initialize variables for FPS calculation\n",
    "start_time = time.time()\n",
    "frame_count = 0\n",
    "\n",
    "while True:\n",
    "    ret, frame = cap.read()\n",
    "    \n",
    "    # Increment frame count\n",
    "    frame_count += 1\n",
    "    \n",
    "    # Calculate time elapsed\n",
    "    elapsed_time = time.time() - start_time\n",
    "    \n",
    "    # Calculate FPS\n",
    "    fps = frame_count / elapsed_time\n",
    "    \n",
    "    # Display FPS on the frame\n",
    "    cv2.putText(frame, f\"FPS: {fps:.2f}\", (10, 30), cv2.FONT_HERSHEY_SIMPLEX, 1, (0, 255, 0), 2)\n",
    "    \n",
    "    # Show the frame\n",
    "    cv2.imshow('Video Stream', frame)\n",
    "    \n",
    "    \n",
    "    # Press Esc to quit\n",
    "    if cv2.waitKey(25) & 0xFF == 27:\n",
    "        break\n",
    "\n",
    "# Release video capture and close window\n",
    "cap.release()\n",
    "cv2.destroyAllWindows()"
   ]
  }
 ],
 "metadata": {
  "kernelspec": {
   "display_name": "Python 3 (ipykernel)",
   "language": "python",
   "name": "python3"
  },
  "language_info": {
   "codemirror_mode": {
    "name": "ipython",
    "version": 3
   },
   "file_extension": ".py",
   "mimetype": "text/x-python",
   "name": "python",
   "nbconvert_exporter": "python",
   "pygments_lexer": "ipython3",
   "version": "3.9.18"
  }
 },
 "nbformat": 4,
 "nbformat_minor": 5
}
