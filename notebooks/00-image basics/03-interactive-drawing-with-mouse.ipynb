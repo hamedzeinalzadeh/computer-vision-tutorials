{
 "cells": [
  {
   "cell_type": "markdown",
   "id": "f0fb1272-c836-4c49-987e-e758d0b91136",
   "metadata": {},
   "source": [
    "# Interactive Drawing with Mouse\n",
    "\n",
    "- **Note:** It is recommended to run these cells as .py files."
   ]
  },
  {
   "cell_type": "markdown",
   "id": "d85ec1f3-4810-4eb8-8bf3-f005b675a9ca",
   "metadata": {},
   "source": [
    "### **Script #1:**     \n",
    "#### Connecting a Function for Drawing on Image"
   ]
  },
  {
   "cell_type": "code",
   "execution_count": 1,
   "id": "ad2d7b2c-ad77-403d-93e5-e4a69864d37d",
   "metadata": {},
   "outputs": [],
   "source": [
    "import cv2\n",
    "import numpy as np\n",
    "\n",
    "# Function based on a CV2 Event (Left button click)\n",
    "def draw_circle(event,x,y,flags,param):\n",
    "    if event == cv2.EVENT_LBUTTONDOWN:\n",
    "        cv2.circle(img,(x,y),100,(0,255,0),-1)\n",
    "\n",
    "# Create blank image\n",
    "img = np.zeros((500,500,3))\n",
    "\n",
    "# Naming the window to reference it \n",
    "cv2.namedWindow(winname='my_drawing')\n",
    "\n",
    "# Connect the mouse button to callback function\n",
    "cv2.setMouseCallback('my_drawing',draw_circle)\n",
    "\n",
    "# Run forever until pressing Esc\n",
    "while True:\n",
    "    \n",
    "    # Shows the image window\n",
    "    cv2.imshow('my_drawing',img)\n",
    "    \n",
    "    if (cv2.waitKey(20) & 0xFF) == 27:\n",
    "        break\n",
    "\n",
    "# It closes all windows (just in case you have multiple windows called)\n",
    "cv2.destroyAllWindows()"
   ]
  },
  {
   "cell_type": "markdown",
   "id": "464a97d9-26d8-47c6-9b8d-88055e8d766c",
   "metadata": {},
   "source": [
    "**Explanation about this line of code:**\n",
    "\n",
    "```python\n",
    "if (cv2.waitKey(20) & 0xFF) == 27:\n",
    "    break\n",
    "```\n",
    "\n",
    "- The `waitKey(0)` function returns `-1` when no input is made. As soon the event occurs(button is pressed), it **returns a 32-bit integer**.\n",
    "\n",
    "- The `0xFF` in this scenario is representing binary `11111111` a 8 bit binary, since we only **require 8 bits to represent a character**, `&` (bitwise AND) `waitKey(0)` to `0xFF`. As a result, an integer is **obtained below 255**.\n",
    "\n",
    "\n",
    "```python\n",
    "if (cv2.waitKey(20) & 0xFF) == ord('q'):\n",
    "    break\n",
    "```\n",
    "- `ord(char)` returns the **ASCII** value of the character which would be again **maximum 255**.\n",
    "\n",
    "- Hence by comparing the integer to the `ord(char)` value, we can check for a key pressed event and break the loop.\n",
    "\n",
    "---\n",
    "\n",
    "<br>"
   ]
  },
  {
   "cell_type": "markdown",
   "id": "9bc290d1-1ee7-4cd8-877f-f42b5eb6a33d",
   "metadata": {},
   "source": [
    "### **Script #2:**     \n",
    "#### Adding different event choices"
   ]
  },
  {
   "cell_type": "code",
   "execution_count": null,
   "id": "02848e09-415b-41b2-8579-b94d396d0aba",
   "metadata": {},
   "outputs": [],
   "source": [
    "import cv2\n",
    "import numpy as np\n",
    "\n",
    "# Function based on a CV2 Events\n",
    "def draw_circle(event,x,y,flags,param):\n",
    "    \n",
    "    if event == cv2.EVENT_LBUTTONDOWN:\n",
    "        cv2.circle(img,(x,y),100,(0,255,0),-1)\n",
    "    elif event == cv2.EVENT_RBUTTONDOWN:\n",
    "        cv2.circle(img,(x,y),100,(0,0,255),-1)\n",
    "        \n",
    "\n",
    "# Create a blank image\n",
    "img = np.zeros((500,500,3))\n",
    "\n",
    "# Naming the window to reference it \n",
    "cv2.namedWindow(winname='my_drawing')\n",
    "\n",
    "# Connect the mouse button to callback function\n",
    "cv2.setMouseCallback('my_drawing',draw_circle)\n",
    "\n",
    "while True: #Runs forever until we break with Esc key on keyboard\n",
    "    # Shows the image window\n",
    "    cv2.imshow('my_drawing',img)\n",
    "   \n",
    "    if (cv2.waitKey(20) & 0xFF) == 27:\n",
    "        break\n",
    "\n",
    "# It closes all windows (just in case you have multiple windows called)\n",
    "cv2.destroyAllWindows()"
   ]
  },
  {
   "cell_type": "markdown",
   "id": "1e069da6-ddb9-4c24-8c59-fdcc9a867bcf",
   "metadata": {},
   "source": [
    "---\n",
    "<br>"
   ]
  },
  {
   "cell_type": "markdown",
   "id": "907f8fcc-3eca-4dbc-9961-2ac2f79346ab",
   "metadata": {},
   "source": [
    "### **Script #3:**     \n",
    "#### Drag and Drop "
   ]
  },
  {
   "cell_type": "code",
   "execution_count": null,
   "id": "9b588ec5-2615-442a-b4fd-7d6472914c17",
   "metadata": {},
   "outputs": [],
   "source": [
    "import cv2\n",
    "import numpy as np\n",
    "\n",
    "\n",
    "# Function based on a CV2 Events\n",
    "drawing = False # True if mouse is pressed down\n",
    "ix,iy = -1,-1\n",
    "\n",
    "# mouse callback function\n",
    "def draw_rectangle(event,x,y,flags,param):\n",
    "    global ix,iy,drawing,mode\n",
    "\n",
    "    if event == cv2.EVENT_LBUTTONDOWN:\n",
    "        # True if click DOWN with left mouse button\n",
    "        drawing = True\n",
    "        # Take note of where that mouse was located\n",
    "        ix,iy = x,y\n",
    "\n",
    "    elif event == cv2.EVENT_MOUSEMOVE:\n",
    "        # Now the mouse is moving\n",
    "        if drawing == True:\n",
    "            # If drawing is True, it means you've already clicked on the left mouse button\n",
    "            # We draw a rectangle from the previous position to the x,y where the mouse is\n",
    "            cv2.rectangle(img,(ix,iy),(x,y),(0,255,0),-1)\n",
    "           \n",
    "\n",
    "    elif event == cv2.EVENT_LBUTTONUP:\n",
    "        # Once you lift the mouse button, drawing is False\n",
    "        drawing = False\n",
    "        # we complete the rectangle.\n",
    "        cv2.rectangle(img,(ix,iy),(x,y),(0,255,0),-1)\n",
    "        \n",
    "        \n",
    "\n",
    "# Create a blank image\n",
    "img = np.zeros((500,500,3))\n",
    "\n",
    "# Naming the window to reference it \n",
    "cv2.namedWindow(winname='my_drawing')\n",
    "\n",
    "# Connect the mouse button to callback function\n",
    "cv2.setMouseCallback('my_drawing',draw_rectangle)\n",
    "\n",
    "while True: #Runs forever until we break with Esc key on keyboard\n",
    "    # Shows the image window\n",
    "    cv2.imshow('my_drawing',img)\n",
    "\n",
    "    if cv2.waitKey(1) & 0xFF == 27:\n",
    "        break\n",
    "\n",
    "# It closes all windows (just in case you have multiple windows called)\n",
    "cv2.destroyAllWindows()"
   ]
  }
 ],
 "metadata": {
  "kernelspec": {
   "display_name": "Python 3",
   "language": "python",
   "name": "python3"
  },
  "language_info": {
   "codemirror_mode": {
    "name": "ipython",
    "version": 3
   },
   "file_extension": ".py",
   "mimetype": "text/x-python",
   "name": "python",
   "nbconvert_exporter": "python",
   "pygments_lexer": "ipython3",
   "version": "3.9.17"
  }
 },
 "nbformat": 4,
 "nbformat_minor": 5
}
