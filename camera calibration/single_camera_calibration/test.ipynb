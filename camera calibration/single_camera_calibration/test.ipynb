{
 "cells": [
  {
   "cell_type": "code",
   "execution_count": 4,
   "id": "66a17b83-d62b-41a7-89e8-83116b70a483",
   "metadata": {},
   "outputs": [],
   "source": [
    "import glob\n",
    "\n",
    "import cv2\n",
    "import numpy as np\n",
    "\n",
    "\"\"\"\n",
    "1 - Find chessboard corners(object points and imagepoints)\n",
    "\"\"\"\n",
    "\n",
    "chessboard_size = (3, 3)\n",
    "frameSize = (640, 480)\n",
    "\n",
    "\n",
    "# termination criteria(OpenCv default)\n",
    "criteria = (cv2.TERM_CRITERIA_EPS + cv2.TERM_CRITERIA_MAX_ITER, 30, 0.001)\n",
    "\n",
    "\n",
    "# prepare object points, like (0,0,0), (1,0,0), (2,0,0) ....,(2,2,0)\n",
    "objp = np.zeros((chessboard_size[0] * chessboard_size[1], 3), np.float32)\n",
    "objp[:, :2] = np.mgrid[0:chessboard_size[0],\n",
    "                       0:chessboard_size[1]].T.reshape(-1, 2)\n",
    "\n",
    "chessboard_grid_size_mm = 40\n",
    "objp = objp * chessboard_grid_size_mm\n",
    "\n",
    "\n",
    "# Lists of object-points and image-points of all the images\n",
    "objpoints = []  # 3d point in real world coordinate system\n",
    "imgpoints = []  # 2d points in image plane\n",
    "\n",
    "# Add the paths of single-camera calibration images\n",
    "path_to_search = './single_camera_images/*.jpg'\n",
    "images = glob.glob(path_to_search)\n"
   ]
  },
  {
   "cell_type": "code",
   "execution_count": 5,
   "id": "d5eaa7c5-1a84-4a5e-9a76-145929b02b15",
   "metadata": {},
   "outputs": [
    {
     "data": {
      "text/plain": [
       "['./single_camera_images/2023-12-09-014327.jpg',\n",
       " './single_camera_images/2023-12-09-014438.jpg',\n",
       " './single_camera_images/2023-12-09-014456.jpg',\n",
       " './single_camera_images/2023-12-09-014428.jpg',\n",
       " './single_camera_images/2023-12-09-014558.jpg',\n",
       " './single_camera_images/2023-12-09-014510.jpg',\n",
       " './single_camera_images/2023-12-09-014530.jpg',\n",
       " './single_camera_images/2023-12-09-014543.jpg',\n",
       " './single_camera_images/2023-12-09-014354.jpg',\n",
       " './single_camera_images/2023-12-09-014340.jpg',\n",
       " './single_camera_images/2023-12-09-014419.jpg',\n",
       " './single_camera_images/2023-12-09-014319.jpg',\n",
       " './single_camera_images/2023-12-09-014609.jpg',\n",
       " './single_camera_images/2023-12-09-014540.jpg',\n",
       " './single_camera_images/2023-12-09-014406.jpg',\n",
       " './single_camera_images/2023-12-09-014313.jpg',\n",
       " './single_camera_images/2023-12-09-014451.jpg',\n",
       " './single_camera_images/2023-12-09-014305.jpg']"
      ]
     },
     "execution_count": 5,
     "metadata": {},
     "output_type": "execute_result"
    }
   ],
   "source": [
    "images"
   ]
  },
  {
   "cell_type": "code",
   "execution_count": 3,
   "id": "304c167f-3590-4526-93fb-4077ee3141fc",
   "metadata": {},
   "outputs": [
    {
     "name": "stdout",
     "output_type": "stream",
     "text": [
      "README.md  single_camera_calibration.py  \u001b[0m\u001b[01;34msingle_camera_images\u001b[0m/  test.ipynb\n"
     ]
    }
   ],
   "source": [
    "ls"
   ]
  },
  {
   "cell_type": "code",
   "execution_count": 9,
   "id": "95e5b69d-8619-43bc-aa25-6413f5eefd35",
   "metadata": {},
   "outputs": [],
   "source": [
    "img = cv2.imread('./single_camera_images/2023-12-09-014609.jpg')\n",
    "# h,  w = img.shape[:2]\n"
   ]
  },
  {
   "cell_type": "code",
   "execution_count": 11,
   "id": "76c4f3ac-5ca5-47f6-b247-565289a4da92",
   "metadata": {},
   "outputs": [
    {
     "data": {
      "text/plain": [
       "(480, 640, 3)"
      ]
     },
     "execution_count": 11,
     "metadata": {},
     "output_type": "execute_result"
    }
   ],
   "source": [
    "img.shape"
   ]
  },
  {
   "cell_type": "code",
   "execution_count": null,
   "id": "54c9cf5e-ba3a-44ee-aa59-aa04816a3f1d",
   "metadata": {},
   "outputs": [],
   "source": []
  }
 ],
 "metadata": {
  "kernelspec": {
   "display_name": "Python 3 (ipykernel)",
   "language": "python",
   "name": "python3"
  },
  "language_info": {
   "codemirror_mode": {
    "name": "ipython",
    "version": 3
   },
   "file_extension": ".py",
   "mimetype": "text/x-python",
   "name": "python",
   "nbconvert_exporter": "python",
   "pygments_lexer": "ipython3",
   "version": "3.9.18"
  }
 },
 "nbformat": 4,
 "nbformat_minor": 5
}
